{
 "cells": [
  {
   "cell_type": "code",
   "execution_count": 9,
   "metadata": {},
   "outputs": [
    {
     "name": "stdout",
     "output_type": "stream",
     "text": [
      "{'Jhon': 938477566, 'Jack': 938377264, 'Jake': 938273443}\n",
      "\n",
      "Jake is listed in the phonebook.\n",
      "Jill is not listed in the phonebook.\n"
     ]
    }
   ],
   "source": [
    "phonebook = {\"Jhon\": 938477566, \"Jack\" : 938377264 , \"Jill\" : 947662781}\n",
    "\n",
    "phonebook[\"Jake\"] = 938273443\n",
    "del phonebook[\"Jill\"]\n",
    "print (phonebook)\n",
    "print()\n",
    "\n",
    "if \"Jake\" in phonebook:\n",
    "    print(\"Jake is listed in the phonebook.\")\n",
    "if \"Jill\" not in phonebook:\n",
    "    print (\"Jill is not listed in the phonebook.\") "
   ]
  },
  {
   "cell_type": "code",
   "execution_count": 1,
   "metadata": {},
   "outputs": [
    {
     "name": "stdout",
     "output_type": "stream",
     "text": [
      "[34.6, 44.9, 68.3, 44.6, 12.7]\n"
     ]
    }
   ],
   "source": [
    "numbers = [34.6, -203.4, 44.9 , 68.3, -15.2, 44.6 , 12.7]\n",
    "newlist =[num for num in numbers if num > 0 ]\n",
    "print (newlist)\n"
   ]
  },
  {
   "cell_type": "code",
   "execution_count": null,
   "metadata": {},
   "outputs": [
    {
     "name": "stdout",
     "output_type": "stream",
     "text": [
      "{'Eric', 'Jake'}\n"
     ]
    }
   ],
   "source": [
    "a = set([ \"Jake\", \"John\", \"Eric\"])\n",
    "b = set([ \"John\", \"Jill\"])\n",
    "c = (a.union(b))\n",
    "\n",
    "print(c.symmetric_difference(b))\n"
   ]
  },
  {
   "cell_type": "code",
   "execution_count": null,
   "metadata": {},
   "outputs": [
    {
     "name": "stdout",
     "output_type": "stream",
     "text": [
      "{'Eric', 'Jake'}\n"
     ]
    }
   ],
   "source": [
    "a = set([ \"Jake\", \"John\", \"Eric\"])\n",
    "b = set([ \"John\", \"Jill\"])\n",
    "c = (a.intersection(b))\n",
    "\n",
    "print(c.symmetric_difference(a))\n"
   ]
  },
  {
   "cell_type": "code",
   "execution_count": null,
   "metadata": {},
   "outputs": [],
   "source": []
  }
 ],
 "metadata": {
  "kernelspec": {
   "display_name": "Python 3",
   "language": "python",
   "name": "python3"
  },
  "language_info": {
   "codemirror_mode": {
    "name": "ipython",
    "version": 3
   },
   "file_extension": ".py",
   "mimetype": "text/x-python",
   "name": "python",
   "nbconvert_exporter": "python",
   "pygments_lexer": "ipython3",
   "version": "3.13.1"
  }
 },
 "nbformat": 4,
 "nbformat_minor": 2
}
