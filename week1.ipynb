{
 "cells": [
  {
   "cell_type": "code",
   "execution_count": null,
   "metadata": {},
   "outputs": [],
   "source": [
    "name = input(\"Enter the first number:\")\n",
    "print(\"Hello, \" + name + \"! Welcome to Python programming.\")"
   ]
  },
  {
   "cell_type": "code",
   "execution_count": null,
   "metadata": {},
   "outputs": [],
   "source": [
    "num1 = float(input(\"Enter the first number:\"))\n",
    "num2 = float(input(\"Enter the second number:\"))\n",
    "result = num1 +num2\n",
    "print(\"The sum is:\", result)"
   ]
  },
  {
   "cell_type": "code",
   "execution_count": null,
   "metadata": {},
   "outputs": [],
   "source": [
    "principal = float(input(\"Enter the principal amount:\"))\n",
    "rate = float(input(\"Enter the rate of interest:\"))\n",
    "time=float(input(\"Enter the time(in years):\"))\n",
    "simple_interest = principal*rate*time/100\n",
    "print(\"The Simple Interest is:\", simple_interest)"
   ]
  }
 ],
 "metadata": {
  "language_info": {
   "name": "python"
  }
 },
 "nbformat": 4,
 "nbformat_minor": 2
}
