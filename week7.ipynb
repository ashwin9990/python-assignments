{
 "cells": [
  {
   "cell_type": "markdown",
   "metadata": {},
   "source": [
    "Object Oriented Programming (OOP)\n"
   ]
  },
  {
   "cell_type": "markdown",
   "metadata": {},
   "source": [
    "Methods (function) in a class:"
   ]
  },
  {
   "cell_type": "code",
   "execution_count": 3,
   "metadata": {},
   "outputs": [],
   "source": [
    "class laptop:\n",
    "    def specifications(self):\n",
    "        return \"i5, 16 GB, !TB\"\n",
    "    def operating_system(self):\n",
    "        return \"Windows 11\""
   ]
  },
  {
   "cell_type": "code",
   "execution_count": 4,
   "metadata": {},
   "outputs": [],
   "source": [
    "my_laptop = laptop()\n"
   ]
  },
  {
   "cell_type": "code",
   "execution_count": 5,
   "metadata": {},
   "outputs": [
    {
     "data": {
      "text/plain": [
       "'i5, 16 GB, !TB'"
      ]
     },
     "execution_count": 5,
     "metadata": {},
     "output_type": "execute_result"
    }
   ],
   "source": [
    "my_laptop.specifications()\n"
   ]
  },
  {
   "cell_type": "code",
   "execution_count": 6,
   "metadata": {},
   "outputs": [
    {
     "data": {
      "text/plain": [
       "'i5, 16 GB, !TB'"
      ]
     },
     "execution_count": 6,
     "metadata": {},
     "output_type": "execute_result"
    }
   ],
   "source": [
    "your_laptop=laptop()\n",
    "your_laptop.specifications()\n"
   ]
  },
  {
   "cell_type": "code",
   "execution_count": 13,
   "metadata": {},
   "outputs": [],
   "source": [
    "class ComputerLab:\n",
    "    def apple(self):\n",
    "        return \"i5, 16 GB, 1 TB\"\n",
    "    def dell(self):\n",
    "        return \"i7, 32 GB, 500 GB\"\n"
   ]
  },
  {
   "cell_type": "code",
   "execution_count": 14,
   "metadata": {},
   "outputs": [
    {
     "data": {
      "text/plain": [
       "'i5, 16 GB, 1 TB'"
      ]
     },
     "execution_count": 14,
     "metadata": {},
     "output_type": "execute_result"
    }
   ],
   "source": [
    "c1=ComputerLab()\n",
    "c1.apple()"
   ]
  },
  {
   "cell_type": "code",
   "execution_count": 15,
   "metadata": {},
   "outputs": [
    {
     "data": {
      "text/plain": [
       "'i5, 16 GB, 1 TB'"
      ]
     },
     "execution_count": 15,
     "metadata": {},
     "output_type": "execute_result"
    }
   ],
   "source": [
    "ComputerLab.apple(c1)"
   ]
  },
  {
   "cell_type": "code",
   "execution_count": 26,
   "metadata": {},
   "outputs": [],
   "source": [
    "class Calculator:\n",
    "    def mysum(self,a,b):\n",
    "        return(a+b)\n",
    "\n",
    "    def product(self,a,b):\n",
    "        return(a*b)\n",
    "my_object=Calculator()"
   ]
  },
  {
   "cell_type": "code",
   "execution_count": 29,
   "metadata": {},
   "outputs": [
    {
     "data": {
      "text/plain": [
       "5"
      ]
     },
     "execution_count": 29,
     "metadata": {},
     "output_type": "execute_result"
    }
   ],
   "source": [
    "my_object.mysum(2,3)"
   ]
  },
  {
   "cell_type": "code",
   "execution_count": 28,
   "metadata": {},
   "outputs": [
    {
     "data": {
      "text/plain": [
       "6"
      ]
     },
     "execution_count": 28,
     "metadata": {},
     "output_type": "execute_result"
    }
   ],
   "source": [
    "\n",
    "my_object.product(2,3)"
   ]
  },
  {
   "cell_type": "code",
   "execution_count": 31,
   "metadata": {},
   "outputs": [
    {
     "name": "stdout",
     "output_type": "stream",
     "text": [
      "2522178671568\n",
      "2522180145408\n",
      "False\n"
     ]
    }
   ],
   "source": [
    "class Computer:\n",
    "    pass \n",
    "c1=Computer()\n",
    "c2=Computer()\n",
    "print(id(c1))\n",
    "print(id(c2))\n",
    "\n",
    "print(c1 is c2)\n"
   ]
  },
  {
   "cell_type": "markdown",
   "metadata": {},
   "source": [
    "The _init_ method"
   ]
  },
  {
   "cell_type": "code",
   "execution_count": 34,
   "metadata": {},
   "outputs": [
    {
     "name": "stdout",
     "output_type": "stream",
     "text": [
      "This is called automatically!\n"
     ]
    }
   ],
   "source": [
    "class PC:\n",
    "    def __init__(self):\n",
    "        print(\"This is called automatically!\")\n",
    "\n",
    "    def config(self):\n",
    "        print(\"i5, 16 GB, 1TB\")\n",
    "mycomputer=PC()"
   ]
  },
  {
   "cell_type": "code",
   "execution_count": 37,
   "metadata": {},
   "outputs": [
    {
     "name": "stdout",
     "output_type": "stream",
     "text": [
      "config is: 16GB i7\n"
     ]
    }
   ],
   "source": [
    "class PC:\n",
    "    def __init__(self, c, r):\n",
    "        self.c = c\n",
    "        self.r=r\n",
    "    def config(self):\n",
    "        print(\"config is:\",self.r, self.c)\n",
    "\n",
    "mycomputer=PC(\"i7\",\"16GB\")\n",
    "mycomputer.config()"
   ]
  },
  {
   "cell_type": "code",
   "execution_count": 38,
   "metadata": {},
   "outputs": [
    {
     "name": "stdout",
     "output_type": "stream",
     "text": [
      "This is constructor, and is called automatically!\n",
      "This is product funtion!\n"
     ]
    },
    {
     "data": {
      "text/plain": [
       "12"
      ]
     },
     "execution_count": 38,
     "metadata": {},
     "output_type": "execute_result"
    }
   ],
   "source": [
    "class Calculator:\n",
    "    def __init__(self,a,b):\n",
    "        self.a = a\n",
    "        self.b=b\n",
    "        print(\"This is constructor, and is called automatically!\")\n",
    "\n",
    "    def my_sum(self,a,b):\n",
    "        print(\"This is sum funtion!\")\n",
    "        my_sum=self.a+self.b\n",
    "        return my_sum\n",
    "\n",
    "    def my_product(self):\n",
    "        print(\"This is product funtion!\")\n",
    "        my_product=self.a*self.b\n",
    "        return my_product\n",
    "\n",
    "my_obj=Calculator(3,4)\n",
    "my_obj.my_product()"
   ]
  },
  {
   "cell_type": "code",
   "execution_count": 39,
   "metadata": {},
   "outputs": [],
   "source": [
    "class Computer:\n",
    "    def __init__(self):\n",
    "        self.name=\"David\"\n",
    "        self.age=28\n",
    "\n",
    "    def update(self):\n",
    "        self.age=self.age+1\n",
    "        def equal(self,other):\n",
    "            if self.age==other.age:\n",
    "                return True\n",
    "            else:\n",
    "                return False"
   ]
  },
  {
   "cell_type": "code",
   "execution_count": 40,
   "metadata": {},
   "outputs": [],
   "source": [
    "c1=Computer()\n",
    "c2=Computer()"
   ]
  },
  {
   "cell_type": "code",
   "execution_count": 41,
   "metadata": {},
   "outputs": [
    {
     "name": "stdout",
     "output_type": "stream",
     "text": [
      "28\n"
     ]
    }
   ],
   "source": [
    "print(c1.age)"
   ]
  },
  {
   "cell_type": "code",
   "execution_count": 42,
   "metadata": {},
   "outputs": [],
   "source": [
    "c1.update()"
   ]
  },
  {
   "cell_type": "code",
   "execution_count": 45,
   "metadata": {},
   "outputs": [
    {
     "name": "stdout",
     "output_type": "stream",
     "text": [
      "30\n",
      "28\n"
     ]
    }
   ],
   "source": [
    "print(c1.age)\n",
    "print(c2.age)\n"
   ]
  },
  {
   "cell_type": "code",
   "execution_count": 46,
   "metadata": {},
   "outputs": [],
   "source": [
    "class Car: \n",
    "    def __init__(self):\n",
    "        self.mielage=10\n",
    "        self.company=\"Ford\"\n",
    "        "
   ]
  },
  {
   "cell_type": "code",
   "execution_count": 48,
   "metadata": {},
   "outputs": [],
   "source": [
    "mycar=Car()\n",
    "yourcar=Car()"
   ]
  },
  {
   "cell_type": "code",
   "execution_count": 49,
   "metadata": {},
   "outputs": [
    {
     "name": "stdout",
     "output_type": "stream",
     "text": [
      "Ford 10\n"
     ]
    }
   ],
   "source": [
    "print(mycar.company,mycar.mielage)\n"
   ]
  },
  {
   "cell_type": "markdown",
   "metadata": {},
   "source": []
  },
  {
   "cell_type": "code",
   "execution_count": 50,
   "metadata": {},
   "outputs": [
    {
     "name": "stdout",
     "output_type": "stream",
     "text": [
      "Ford 10\n"
     ]
    }
   ],
   "source": [
    "print(yourcar.company, yourcar.mielage)"
   ]
  },
  {
   "cell_type": "code",
   "execution_count": 51,
   "metadata": {},
   "outputs": [],
   "source": [
    "mycar.mielage=7\n",
    "mycar.company=\"Daihatsu\""
   ]
  },
  {
   "cell_type": "code",
   "execution_count": 52,
   "metadata": {},
   "outputs": [
    {
     "name": "stdout",
     "output_type": "stream",
     "text": [
      "Daihatsu 7\n"
     ]
    }
   ],
   "source": [
    "print(mycar.company, mycar.mielage)"
   ]
  },
  {
   "cell_type": "code",
   "execution_count": 53,
   "metadata": {},
   "outputs": [
    {
     "name": "stdout",
     "output_type": "stream",
     "text": [
      "Ford 7\n"
     ]
    }
   ],
   "source": [
    "print(yourcar.company, mycar.mielage)"
   ]
  },
  {
   "cell_type": "code",
   "execution_count": 2,
   "metadata": {},
   "outputs": [],
   "source": [
    "class Car:\n",
    "    fuel=\"diesel\"\n",
    "    def __init__(self):\n",
    "        self.mielage=10\n",
    "        self.company=\"ford\""
   ]
  },
  {
   "cell_type": "code",
   "execution_count": 5,
   "metadata": {},
   "outputs": [],
   "source": [
    "c1=Car()\n",
    "c2=Car()\n",
    "c3=Car()"
   ]
  },
  {
   "cell_type": "code",
   "execution_count": 59,
   "metadata": {},
   "outputs": [
    {
     "name": "stdout",
     "output_type": "stream",
     "text": [
      "diesel\n",
      "diesel\n",
      "diesel\n"
     ]
    }
   ],
   "source": [
    "print(c1.fuel)\n",
    "print(c2.fuel)\n",
    "print(c3.fuel)"
   ]
  },
  {
   "cell_type": "code",
   "execution_count": 60,
   "metadata": {},
   "outputs": [
    {
     "name": "stdout",
     "output_type": "stream",
     "text": [
      "7\n"
     ]
    }
   ],
   "source": [
    "c1.mielage=7\n",
    "print(c1.mielage)"
   ]
  },
  {
   "cell_type": "code",
   "execution_count": 61,
   "metadata": {},
   "outputs": [
    {
     "data": {
      "text/plain": [
       "10"
      ]
     },
     "execution_count": 61,
     "metadata": {},
     "output_type": "execute_result"
    }
   ],
   "source": [
    "c2.mielage"
   ]
  },
  {
   "cell_type": "code",
   "execution_count": 62,
   "metadata": {},
   "outputs": [
    {
     "name": "stdout",
     "output_type": "stream",
     "text": [
      "electric\n",
      "electric\n",
      "electric\n"
     ]
    }
   ],
   "source": [
    "Car.fuel='electric'\n",
    "print(c1.fuel)\n",
    "print(c2.fuel)\n",
    "print(c3.fuel)"
   ]
  },
  {
   "cell_type": "code",
   "execution_count": 6,
   "metadata": {},
   "outputs": [
    {
     "name": "stdout",
     "output_type": "stream",
     "text": [
      "petrol\n",
      "petrol\n",
      "petrol\n"
     ]
    }
   ],
   "source": [
    "Car.fuel=\"petrol\"\n",
    "\n",
    "print(c1.fuel)\n",
    "print(c2.fuel)\n",
    "print(c3.fuel)"
   ]
  },
  {
   "cell_type": "code",
   "execution_count": 9,
   "metadata": {},
   "outputs": [
    {
     "name": "stdout",
     "output_type": "stream",
     "text": [
      "Hello, welcome to BBA at Nami college\n",
      "Hello, welcome to BScIT at Nami college\n",
      "Hello, welcome to ACCA at Nami college\n"
     ]
    },
    {
     "data": {
      "text/plain": [
       "7.333333333333333"
      ]
     },
     "execution_count": 9,
     "metadata": {},
     "output_type": "execute_result"
    }
   ],
   "source": [
    "class TBC:\n",
    "    address=\"Thapathali, KTM\"\n",
    "    contact=989800009807\n",
    "    principal=\"Mr XYZ\"\n",
    "\n",
    "    def __init__(self, program_name, program_duration, degree_awarded):\n",
    "        self.program_name = program_name\n",
    "        self.program_duration=program_duration\n",
    "        self.degree_awarded=degree_awarded\n",
    "        print(f\"Hello, welcome to {self.program_name} at Nami college\")\n",
    "    \n",
    "    def compute_avg_marks(self, m_list):\n",
    "        '''Computes the average marks. Usage: yesari use garne ho yo!'''\n",
    "        s=0\n",
    "        for i in m_list:\n",
    "            s=s+i\n",
    "            avg=s/len(m_list)\n",
    "            return avg\n",
    "\n",
    "bba=TBC(\"BBA\",\"4 years\",\"B.com\")\n",
    "bsc=TBC(\"BScIT\",\"4 years\", \"B.SC\")\n",
    "acca=TBC(\"ACCA\",\"2 years\",\"Diploma\")\n",
    "TBC.address=\"Chakupat, KTM\"\n",
    "bsc.compute_avg_marks([22,25,27])"
   ]
  },
  {
   "cell_type": "code",
   "execution_count": 12,
   "metadata": {},
   "outputs": [],
   "source": [
    "class Student:\n",
    "    _college=\"TBC\"\n",
    "    \n",
    "    def __init__(self, marks1, marks2, marks3):\n",
    "        self.marks1=marks1\n",
    "        self.marks2=marks2\n",
    "        self.marks3=marks3\n",
    "        \n",
    "    def average(self):\n",
    "        return (self.marks1+self.marks2+self.marks3)/3\n",
    "    def get_marks(self):\n",
    "        return self.marks1, self.marks2, self.marks3\n",
    "    \n",
    "    def set_marks1(self, value):\n",
    "        try:\n",
    "            self.marks=float(value)\n",
    "        except:\n",
    "            print(\"Unknown value, could not set!\")"
   ]
  },
  {
   "cell_type": "code",
   "execution_count": 11,
   "metadata": {},
   "outputs": [],
   "source": [
    "studentA=Student(83,92,74)\n",
    "studentB=Student(65,56,47)"
   ]
  },
  {
   "cell_type": "code",
   "execution_count": 13,
   "metadata": {},
   "outputs": [
    {
     "name": "stdout",
     "output_type": "stream",
     "text": [
      "['__class__', '__delattr__', '__dict__', '__dir__', '__doc__', '__eq__', '__format__', '__ge__', '__getattribute__', '__getstate__', '__gt__', '__hash__', '__init__', '__init_subclass__', '__le__', '__lt__', '__module__', '__ne__', '__new__', '__reduce__', '__reduce_ex__', '__repr__', '__setattr__', '__sizeof__', '__str__', '__subclasshook__', '__weakref__', '_college', 'average', 'get_marks', 'marks1', 'marks2', 'marks3', 'set_marks1']\n"
     ]
    }
   ],
   "source": [
    "print(dir(studentA))"
   ]
  },
  {
   "cell_type": "code",
   "execution_count": 14,
   "metadata": {},
   "outputs": [
    {
     "data": {
      "text/plain": [
       "83.0"
      ]
     },
     "execution_count": 14,
     "metadata": {},
     "output_type": "execute_result"
    }
   ],
   "source": [
    "studentA.average()"
   ]
  },
  {
   "cell_type": "code",
   "execution_count": 15,
   "metadata": {},
   "outputs": [
    {
     "data": {
      "text/plain": [
       "56.0"
      ]
     },
     "execution_count": 15,
     "metadata": {},
     "output_type": "execute_result"
    }
   ],
   "source": [
    "studentB.average()"
   ]
  },
  {
   "cell_type": "code",
   "execution_count": 16,
   "metadata": {},
   "outputs": [
    {
     "data": {
      "text/plain": [
       "83"
      ]
     },
     "execution_count": 16,
     "metadata": {},
     "output_type": "execute_result"
    }
   ],
   "source": [
    "studentA.marks1"
   ]
  },
  {
   "cell_type": "code",
   "execution_count": 18,
   "metadata": {},
   "outputs": [
    {
     "data": {
      "text/plain": [
       "'ninety'"
      ]
     },
     "execution_count": 18,
     "metadata": {},
     "output_type": "execute_result"
    }
   ],
   "source": [
    "studentA.marks1=\"ninety\"\n",
    "studentA.marks1"
   ]
  },
  {
   "cell_type": "code",
   "execution_count": 19,
   "metadata": {},
   "outputs": [
    {
     "ename": "TypeError",
     "evalue": "can only concatenate str (not \"int\") to str",
     "output_type": "error",
     "traceback": [
      "\u001b[1;31m---------------------------------------------------------------------------\u001b[0m",
      "\u001b[1;31mTypeError\u001b[0m                                 Traceback (most recent call last)",
      "Cell \u001b[1;32mIn[19], line 1\u001b[0m\n\u001b[1;32m----> 1\u001b[0m \u001b[43mstudentA\u001b[49m\u001b[38;5;241;43m.\u001b[39;49m\u001b[43maverage\u001b[49m\u001b[43m(\u001b[49m\u001b[43m)\u001b[49m\n",
      "Cell \u001b[1;32mIn[12], line 10\u001b[0m, in \u001b[0;36mStudent.average\u001b[1;34m(self)\u001b[0m\n\u001b[0;32m      9\u001b[0m \u001b[38;5;28;01mdef\u001b[39;00m \u001b[38;5;21maverage\u001b[39m(\u001b[38;5;28mself\u001b[39m):\n\u001b[1;32m---> 10\u001b[0m     \u001b[38;5;28;01mreturn\u001b[39;00m (\u001b[38;5;28;43mself\u001b[39;49m\u001b[38;5;241;43m.\u001b[39;49m\u001b[43mmarks1\u001b[49m\u001b[38;5;241;43m+\u001b[39;49m\u001b[38;5;28;43mself\u001b[39;49m\u001b[38;5;241;43m.\u001b[39;49m\u001b[43mmarks2\u001b[49m\u001b[38;5;241m+\u001b[39m\u001b[38;5;28mself\u001b[39m\u001b[38;5;241m.\u001b[39mmarks3)\u001b[38;5;241m/\u001b[39m\u001b[38;5;241m3\u001b[39m\n",
      "\u001b[1;31mTypeError\u001b[0m: can only concatenate str (not \"int\") to str"
     ]
    }
   ],
   "source": [
    "studentA.average()"
   ]
  },
  {
   "cell_type": "code",
   "execution_count": 23,
   "metadata": {},
   "outputs": [
    {
     "data": {
      "text/plain": [
       "'ninety'"
      ]
     },
     "execution_count": 23,
     "metadata": {},
     "output_type": "execute_result"
    }
   ],
   "source": [
    "studentA.set_marks1=90\n",
    "studentA.marks1\n",
    "studentA.get_marks()\n",
    "studentA.marks1"
   ]
  },
  {
   "cell_type": "markdown",
   "metadata": {},
   "source": [
    "Accessors (or getters)"
   ]
  },
  {
   "cell_type": "code",
   "execution_count": 24,
   "metadata": {},
   "outputs": [
    {
     "data": {
      "text/plain": [
       "('ninety', 92, 74)"
      ]
     },
     "execution_count": 24,
     "metadata": {},
     "output_type": "execute_result"
    }
   ],
   "source": [
    "studentA.get_marks()"
   ]
  },
  {
   "cell_type": "code",
   "execution_count": 25,
   "metadata": {},
   "outputs": [
    {
     "data": {
      "text/plain": [
       "(65, 56, 47)"
      ]
     },
     "execution_count": 25,
     "metadata": {},
     "output_type": "execute_result"
    }
   ],
   "source": [
    "studentB.get_marks()"
   ]
  },
  {
   "cell_type": "markdown",
   "metadata": {},
   "source": [
    "Mutators (or setters)"
   ]
  },
  {
   "cell_type": "code",
   "execution_count": 27,
   "metadata": {},
   "outputs": [
    {
     "name": "stdout",
     "output_type": "stream",
     "text": [
      "Unknown value, could not set!\n"
     ]
    }
   ],
   "source": [
    "studentB.set_marks1(74)\n",
    "studentB.marks1\n",
    "studentB.set_marks1(\"seventyfour\")"
   ]
  },
  {
   "cell_type": "code",
   "execution_count": 28,
   "metadata": {},
   "outputs": [],
   "source": [
    "class Student:\n",
    "    def __init__(self, name, roll_no):\n",
    "        self.name = name\n",
    "        self.roll_no=roll_no\n",
    "        self.notebook=self.Laptop()\n",
    "    def show(self):\n",
    "        print(self.name,self.roll_no)\n",
    "    \n",
    "    class Laptop:\n",
    "        def __init__(self):\n",
    "            self.brand=\"Dell\"\n",
    "            self.cpu=\"core i7\"\n",
    "            self.ram=\"8 GB\"\n",
    "        def show(self):\n",
    "            print(self.brand,self.cpu,self.ram)\n",
    "\n",
    "s1=Student('Andy',1)\n",
    "s2=Student(\"Ana\",2)"
   ]
  },
  {
   "cell_type": "code",
   "execution_count": 29,
   "metadata": {},
   "outputs": [
    {
     "data": {
      "text/plain": [
       "'Dell'"
      ]
     },
     "execution_count": 29,
     "metadata": {},
     "output_type": "execute_result"
    }
   ],
   "source": [
    "s1.notebook.brand"
   ]
  },
  {
   "cell_type": "code",
   "execution_count": 30,
   "metadata": {},
   "outputs": [
    {
     "name": "stdout",
     "output_type": "stream",
     "text": [
      "Dell core i7 8 GB\n"
     ]
    }
   ],
   "source": [
    "test=Student(\"ABC\",3).Laptop()\n",
    "test.show()"
   ]
  },
  {
   "cell_type": "code",
   "execution_count": 31,
   "metadata": {},
   "outputs": [
    {
     "name": "stdout",
     "output_type": "stream",
     "text": [
      "Andy\n",
      "1\n",
      "Dell core i7 8 GB\n",
      "None\n"
     ]
    }
   ],
   "source": [
    "print(s1.name)\n",
    "print(s1.roll_no)\n",
    "print(s1.notebook.show())"
   ]
  },
  {
   "cell_type": "markdown",
   "metadata": {},
   "source": [
    "Accessing value of a class within a class"
   ]
  },
  {
   "cell_type": "code",
   "execution_count": 32,
   "metadata": {},
   "outputs": [
    {
     "data": {
      "text/plain": [
       "'core i7'"
      ]
     },
     "execution_count": 32,
     "metadata": {},
     "output_type": "execute_result"
    }
   ],
   "source": [
    "s1.notebook.cpu"
   ]
  },
  {
   "cell_type": "code",
   "execution_count": 33,
   "metadata": {},
   "outputs": [],
   "source": [
    "mypc=s1.notebook\n",
    "yourpc=s2.notebook"
   ]
  },
  {
   "cell_type": "code",
   "execution_count": 34,
   "metadata": {},
   "outputs": [],
   "source": [
    "mypc.ram=\"16 GB\""
   ]
  },
  {
   "cell_type": "code",
   "execution_count": 35,
   "metadata": {},
   "outputs": [
    {
     "data": {
      "text/plain": [
       "'16 GB'"
      ]
     },
     "execution_count": 35,
     "metadata": {},
     "output_type": "execute_result"
    }
   ],
   "source": [
    "mypc.ram"
   ]
  },
  {
   "cell_type": "code",
   "execution_count": 36,
   "metadata": {},
   "outputs": [],
   "source": [
    "s1.notebook.ram=\"4 GB\""
   ]
  },
  {
   "cell_type": "code",
   "execution_count": 37,
   "metadata": {},
   "outputs": [
    {
     "data": {
      "text/plain": [
       "'8 GB'"
      ]
     },
     "execution_count": 37,
     "metadata": {},
     "output_type": "execute_result"
    }
   ],
   "source": [
    "yourpc.ram"
   ]
  },
  {
   "cell_type": "markdown",
   "metadata": {},
   "source": [
    "Method of the outer class vs method of the inner class"
   ]
  },
  {
   "cell_type": "code",
   "execution_count": 38,
   "metadata": {},
   "outputs": [
    {
     "name": "stdout",
     "output_type": "stream",
     "text": [
      "Andy 1\n"
     ]
    }
   ],
   "source": [
    "s1.show()"
   ]
  },
  {
   "cell_type": "code",
   "execution_count": 39,
   "metadata": {},
   "outputs": [
    {
     "name": "stdout",
     "output_type": "stream",
     "text": [
      "Dell core i7 4 GB\n"
     ]
    }
   ],
   "source": [
    "s1.notebook.show()"
   ]
  },
  {
   "cell_type": "markdown",
   "metadata": {},
   "source": [
    "Inheritance in Python"
   ]
  },
  {
   "cell_type": "code",
   "execution_count": 41,
   "metadata": {},
   "outputs": [],
   "source": [
    "class A:\n",
    "    def feature_one(self):\n",
    "        print(\"long Nose\")\n",
    "    \n",
    "    def feature_two(self):\n",
    "        print(\"Brown Hair\")\n",
    "\n",
    "\n",
    "class B:\n",
    "    def feature_three(self):\n",
    "        print(\"Pale Skin\")\n",
    "    def feature_four(self):\n",
    "        print(\"Small Ears\")"
   ]
  },
  {
   "cell_type": "markdown",
   "metadata": {},
   "source": [
    "Multiple Inheritance"
   ]
  },
  {
   "cell_type": "code",
   "execution_count": 42,
   "metadata": {},
   "outputs": [],
   "source": [
    "class C(A,B):\n",
    "    attrA=1\n",
    "    def feature_five(self):\n",
    "        print(\"Round Eyes\")"
   ]
  },
  {
   "cell_type": "code",
   "execution_count": 43,
   "metadata": {},
   "outputs": [],
   "source": [
    "parentB=B()"
   ]
  },
  {
   "cell_type": "code",
   "execution_count": 44,
   "metadata": {},
   "outputs": [
    {
     "name": "stdout",
     "output_type": "stream",
     "text": [
      "Small Ears\n",
      "long Nose\n"
     ]
    }
   ],
   "source": [
    "parentB.feature_four()\n",
    "\n",
    "child=C()\n",
    "child.feature_one()"
   ]
  },
  {
   "cell_type": "markdown",
   "metadata": {},
   "source": [
    "Multi-level Inheritance"
   ]
  },
  {
   "cell_type": "code",
   "execution_count": 45,
   "metadata": {},
   "outputs": [],
   "source": [
    "class D(C):\n",
    "    def feature_six(self):\n",
    "        print(\"Long Hands\")"
   ]
  },
  {
   "cell_type": "code",
   "execution_count": 47,
   "metadata": {},
   "outputs": [
    {
     "name": "stdout",
     "output_type": "stream",
     "text": [
      "Round Eyes\n"
     ]
    }
   ],
   "source": [
    "grandchild=D()\n",
    "grandchild.feature_five()"
   ]
  },
  {
   "cell_type": "markdown",
   "metadata": {},
   "source": [
    "Constructor in Inheritance"
   ]
  },
  {
   "cell_type": "code",
   "execution_count": 48,
   "metadata": {},
   "outputs": [],
   "source": [
    "class A:\n",
    "    def __init__(self):\n",
    "        print(\"Initialization of class A\")\n",
    "\n",
    "    def feature_one(self):\n",
    "        print(\"long Nose\")\n",
    "\n",
    "    def feature_two(self):\n",
    "        print(\"Brown Hair\")\n",
    "    \n",
    "    def feature_three(self):\n",
    "        print(\"Pale Skin\")\n",
    "    \n",
    "    def feature_four(self):\n",
    "        print(\"Small Ears\")\n",
    "        "
   ]
  },
  {
   "cell_type": "code",
   "execution_count": 50,
   "metadata": {},
   "outputs": [],
   "source": [
    "#dir(A)"
   ]
  },
  {
   "cell_type": "code",
   "execution_count": 51,
   "metadata": {},
   "outputs": [
    {
     "name": "stdout",
     "output_type": "stream",
     "text": [
      "Initialization of class A\n"
     ]
    }
   ],
   "source": [
    "a1=A()\n",
    "b1=B()"
   ]
  },
  {
   "cell_type": "markdown",
   "metadata": {},
   "source": [
    "What if B has its own __init__?"
   ]
  },
  {
   "cell_type": "code",
   "execution_count": 52,
   "metadata": {},
   "outputs": [],
   "source": [
    "class A:\n",
    "    def __init__(self):\n",
    "        print(\"Initialization of class A\")\n",
    "    def feature_one(self):\n",
    "        print(\"Long Nose\")\n",
    "    def feature_two(self):\n",
    "        print(\"Brown Hair\")\n",
    "    \n",
    "class B(A):\n",
    "    def __init__(self):\n",
    "        print(\"Initialization of class B\")\n",
    "    \n",
    "    def feature_three(self):\n",
    "        print(\"Pale Skin\")\n",
    "    \n",
    "    def feature_four(self):\n",
    "        print(\"Small Ears\")"
   ]
  },
  {
   "cell_type": "code",
   "execution_count": 53,
   "metadata": {},
   "outputs": [
    {
     "name": "stdout",
     "output_type": "stream",
     "text": [
      "Initialization of class B\n"
     ]
    }
   ],
   "source": [
    "b1=B()"
   ]
  },
  {
   "cell_type": "markdown",
   "metadata": {},
   "source": [
    "Can we call the __init__ of both the class, i.e A and B?"
   ]
  },
  {
   "cell_type": "code",
   "execution_count": 54,
   "metadata": {},
   "outputs": [],
   "source": [
    "class A:\n",
    "    def __init__(self):\n",
    "        print(\"Initialization of class A \")\n",
    "    \n",
    "    def feature_one(self):\n",
    "        print(\"Long Nose \")\n",
    "\n",
    "    def feature_two(self):\n",
    "        print(\"Brown Hair\")\n",
    "\n",
    "class B(A):\n",
    "    def __init__(self):\n",
    "        super().__init__()\n",
    "        print(\"Initialization of class B\")\n",
    "    \n",
    "    def feature_three(self):\n",
    "        print(\"Pale Skin\")\n",
    "\n",
    "    def feature_four(self):\n",
    "        print(\"Small Ears\")"
   ]
  },
  {
   "cell_type": "code",
   "execution_count": 55,
   "metadata": {},
   "outputs": [
    {
     "name": "stdout",
     "output_type": "stream",
     "text": [
      "Initialization of class A \n",
      "Initialization of class B\n"
     ]
    }
   ],
   "source": [
    "b1=B()\n"
   ]
  },
  {
   "cell_type": "code",
   "execution_count": 58,
   "metadata": {},
   "outputs": [],
   "source": [
    "class A:\n",
    "    def __init__(self):\n",
    "        print(\"Initialization of class A \")\n",
    "    \n",
    "    def feature_one(self):\n",
    "        print(\"Long Nose \")\n",
    "\n",
    "    def feature_two(self):\n",
    "        print(\"Brown Hair\")\n",
    "\n",
    "class B:\n",
    "    def __init__(self):\n",
    "        print(\"Initialization of class B\")\n",
    "    \n",
    "    def feature_three(self):\n",
    "        print(\"Pale Skin\")\n",
    "\n",
    "    def feature_four(self):\n",
    "        print(\"Small Ears\")"
   ]
  },
  {
   "cell_type": "code",
   "execution_count": 59,
   "metadata": {},
   "outputs": [],
   "source": [
    "class C(A,B):\n",
    "    def __init__(self):\n",
    "        super().__init__()\n",
    "        A.__init__(self)\n",
    "        B.__init__(self)\n",
    "        print(\"Initialization of class C\")\n",
    "    def feature_all(self):\n",
    "        print(\"Good Human Being\")\n",
    "    def call_feature(self):\n",
    "        super().feature_one()"
   ]
  },
  {
   "cell_type": "code",
   "execution_count": 60,
   "metadata": {},
   "outputs": [
    {
     "name": "stdout",
     "output_type": "stream",
     "text": [
      "Initialization of class A \n",
      "Initialization of class A \n",
      "Initialization of class B\n",
      "Initialization of class C\n",
      "Long Nose \n"
     ]
    }
   ],
   "source": [
    "c1=C()\n",
    "c1.call_feature()"
   ]
  },
  {
   "cell_type": "markdown",
   "metadata": {},
   "source": [
    "Method Resolution Order (MRO)\n",
    "\n",
    "Duck Typing"
   ]
  },
  {
   "cell_type": "code",
   "execution_count": 63,
   "metadata": {},
   "outputs": [
    {
     "name": "stdout",
     "output_type": "stream",
     "text": [
      "Compiling ...\n",
      "Running ...\n"
     ]
    }
   ],
   "source": [
    "class Pycharm:\n",
    "    def execute(self):\n",
    "        print(\"Compiling ...\")  \n",
    "        print(\"Running ...\")\n",
    "\n",
    "class VSCode:\n",
    "    def execute(self):\n",
    "        print(\"Spell check\")\n",
    "        print(\"Auto-indent\")\n",
    "        print(\"Compiling ...\")\n",
    "        print(\"Running ...\")\n",
    "\n",
    "class Laptop:\n",
    "    def code(self,IDE):\n",
    "        IDE.execute()\n",
    "\n",
    "myIDE=Pycharm()\n",
    "mylaptop=Laptop()\n",
    "mylaptop.code(myIDE)\n"
   ]
  },
  {
   "cell_type": "markdown",
   "metadata": {},
   "source": [
    "Operator Overloading"
   ]
  },
  {
   "cell_type": "code",
   "execution_count": 64,
   "metadata": {},
   "outputs": [
    {
     "name": "stdout",
     "output_type": "stream",
     "text": [
      "9\n",
      "<class 'int'>\n",
      "<class 'int'>\n"
     ]
    }
   ],
   "source": [
    "x=5\n",
    "y=4\n",
    "print(x+y)\n",
    "print(type(x))\n",
    "print(type(y))"
   ]
  },
  {
   "cell_type": "code",
   "execution_count": 69,
   "metadata": {},
   "outputs": [
    {
     "data": {
      "text/plain": [
       "9"
      ]
     },
     "execution_count": 69,
     "metadata": {},
     "output_type": "execute_result"
    }
   ],
   "source": [
    "x=5\n",
    "y=4\n",
    "int.__add__(x,y)"
   ]
  },
  {
   "cell_type": "code",
   "execution_count": 70,
   "metadata": {},
   "outputs": [
    {
     "data": {
      "text/plain": [
       "'Abcdef'"
      ]
     },
     "execution_count": 70,
     "metadata": {},
     "output_type": "execute_result"
    }
   ],
   "source": [
    "a=\"Abc\"\n",
    "b=\"def\"\n",
    "\n",
    "str.__add__(a,b)\n"
   ]
  },
  {
   "cell_type": "code",
   "execution_count": 71,
   "metadata": {},
   "outputs": [
    {
     "data": {
      "text/plain": [
       "'Abcdef'"
      ]
     },
     "execution_count": 71,
     "metadata": {},
     "output_type": "execute_result"
    }
   ],
   "source": [
    "a+b"
   ]
  },
  {
   "cell_type": "code",
   "execution_count": 74,
   "metadata": {},
   "outputs": [
    {
     "ename": "TypeError",
     "evalue": "unsupported operand type(s) for +: 'int' and 'str'",
     "output_type": "error",
     "traceback": [
      "\u001b[1;31m---------------------------------------------------------------------------\u001b[0m",
      "\u001b[1;31mTypeError\u001b[0m                                 Traceback (most recent call last)",
      "Cell \u001b[1;32mIn[74], line 3\u001b[0m\n\u001b[0;32m      1\u001b[0m a\u001b[38;5;241m=\u001b[39m\u001b[38;5;241m5\u001b[39m\n\u001b[0;32m      2\u001b[0m b\u001b[38;5;241m=\u001b[39m\u001b[38;5;124m\"\u001b[39m\u001b[38;5;124mhello\u001b[39m\u001b[38;5;124m\"\u001b[39m\n\u001b[1;32m----> 3\u001b[0m \u001b[38;5;28mprint\u001b[39m(\u001b[43ma\u001b[49m\u001b[38;5;241;43m+\u001b[39;49m\u001b[43mb\u001b[49m) \u001b[38;5;66;03m#Gives an error\u001b[39;00m\n",
      "\u001b[1;31mTypeError\u001b[0m: unsupported operand type(s) for +: 'int' and 'str'"
     ]
    }
   ],
   "source": [
    "a=5\n",
    "b=\"hello\"\n",
    "print(a+b) #Gives an error\n"
   ]
  },
  {
   "cell_type": "code",
   "execution_count": 75,
   "metadata": {},
   "outputs": [
    {
     "name": "stdout",
     "output_type": "stream",
     "text": [
      "9\n",
      "9\n"
     ]
    }
   ],
   "source": [
    "a=5\n",
    "b=4\n",
    "print(a+b)\n",
    "print(int.__add__(a,b))"
   ]
  },
  {
   "cell_type": "code",
   "execution_count": 76,
   "metadata": {},
   "outputs": [
    {
     "name": "stdout",
     "output_type": "stream",
     "text": [
      "54\n",
      "54\n"
     ]
    }
   ],
   "source": [
    "a=\"5\"\n",
    "b=\"4\"\n",
    "print(a+b)\n",
    "print(str.__add__(a,b))"
   ]
  },
  {
   "cell_type": "code",
   "execution_count": 78,
   "metadata": {},
   "outputs": [],
   "source": [
    "class Student:\n",
    "    def __init__(self, marks1,marks2):\n",
    "        self.marks1 = marks1\n",
    "        self.marks2 = marks2\n",
    "\n",
    "s1=Student(72,77)\n",
    "s2=Student(81,67)\n"
   ]
  },
  {
   "cell_type": "code",
   "execution_count": 79,
   "metadata": {},
   "outputs": [
    {
     "ename": "TypeError",
     "evalue": "unsupported operand type(s) for +: 'Student' and 'Student'",
     "output_type": "error",
     "traceback": [
      "\u001b[1;31m---------------------------------------------------------------------------\u001b[0m",
      "\u001b[1;31mTypeError\u001b[0m                                 Traceback (most recent call last)",
      "Cell \u001b[1;32mIn[79], line 1\u001b[0m\n\u001b[1;32m----> 1\u001b[0m s3\u001b[38;5;241m=\u001b[39m\u001b[43ms1\u001b[49m\u001b[38;5;241;43m+\u001b[39;49m\u001b[43ms2\u001b[49m\n",
      "\u001b[1;31mTypeError\u001b[0m: unsupported operand type(s) for +: 'Student' and 'Student'"
     ]
    }
   ],
   "source": [
    "s3=s1+s2"
   ]
  },
  {
   "cell_type": "code",
   "execution_count": 80,
   "metadata": {},
   "outputs": [
    {
     "ename": "AttributeError",
     "evalue": "type object 'Student' has no attribute '__add__'",
     "output_type": "error",
     "traceback": [
      "\u001b[1;31m---------------------------------------------------------------------------\u001b[0m",
      "\u001b[1;31mAttributeError\u001b[0m                            Traceback (most recent call last)",
      "Cell \u001b[1;32mIn[80], line 1\u001b[0m\n\u001b[1;32m----> 1\u001b[0m \u001b[43mStudent\u001b[49m\u001b[38;5;241;43m.\u001b[39;49m\u001b[38;5;21;43m__add__\u001b[39;49m(s1,s2)\n",
      "\u001b[1;31mAttributeError\u001b[0m: type object 'Student' has no attribute '__add__'"
     ]
    }
   ],
   "source": [
    "Student.__add__(s1,s2)"
   ]
  },
  {
   "cell_type": "code",
   "execution_count": 81,
   "metadata": {},
   "outputs": [],
   "source": [
    "class Student:\n",
    "    def __init__(self, marks1, marks2):\n",
    "        self.marks1=marks1\n",
    "        self.marks2=marks2\n",
    "\n",
    "    def __add__(self, other):\n",
    "        marks1=self.marks1+other.marks1\n",
    "        marks2=self.marks2+other.marks2\n",
    "        return Student(marks1,marks2)\n",
    "\n",
    "\n",
    "s1=Student(72,77)\n",
    "s2=Student(81,67)"
   ]
  },
  {
   "cell_type": "code",
   "execution_count": 82,
   "metadata": {},
   "outputs": [
    {
     "name": "stdout",
     "output_type": "stream",
     "text": [
      "153\n",
      "144\n"
     ]
    }
   ],
   "source": [
    "s3=s1+s2\n",
    "print(s3.marks1)\n",
    "print(s3.marks2)"
   ]
  },
  {
   "cell_type": "code",
   "execution_count": 83,
   "metadata": {},
   "outputs": [
    {
     "ename": "TypeError",
     "evalue": "'>' not supported between instances of 'Student' and 'Student'",
     "output_type": "error",
     "traceback": [
      "\u001b[1;31m---------------------------------------------------------------------------\u001b[0m",
      "\u001b[1;31mTypeError\u001b[0m                                 Traceback (most recent call last)",
      "Cell \u001b[1;32mIn[83], line 1\u001b[0m\n\u001b[1;32m----> 1\u001b[0m \u001b[38;5;28;01mif\u001b[39;00m \u001b[43ms1\u001b[49m\u001b[38;5;241;43m>\u001b[39;49m\u001b[43ms2\u001b[49m:\n\u001b[0;32m      2\u001b[0m     \u001b[38;5;28mprint\u001b[39m(\u001b[38;5;124m\"\u001b[39m\u001b[38;5;124mStudent_1 is selected!\u001b[39m\u001b[38;5;124m\"\u001b[39m)\n\u001b[0;32m      3\u001b[0m \u001b[38;5;28;01melse\u001b[39;00m:\n",
      "\u001b[1;31mTypeError\u001b[0m: '>' not supported between instances of 'Student' and 'Student'"
     ]
    }
   ],
   "source": [
    "if s1>s2:\n",
    "    print(\"Student_1 is selected!\")\n",
    "else:\n",
    "    print(\"Student_2 is selected! \")\n",
    "    "
   ]
  },
  {
   "cell_type": "code",
   "execution_count": 85,
   "metadata": {},
   "outputs": [
    {
     "name": "stdout",
     "output_type": "stream",
     "text": [
      "Student_1 is selected!\n"
     ]
    }
   ],
   "source": [
    "class Student:\n",
    "    def __init__(self,marks1, marks2):\n",
    "        self.marks1 = marks1\n",
    "        self.marks2=marks2\n",
    "    \n",
    "    def __add__(self, other):\n",
    "        marks1=self.marks1+other.marks1\n",
    "        marks2=self.marks2+other.marks2\n",
    "        return Student(marks1, marks2)\n",
    "    \n",
    "    def __gt__(self, other):\n",
    "        r1=self.marks1+self.marks2\n",
    "        r2=other.marks1+other.marks2\n",
    "\n",
    "        if r1>r2:\n",
    "            return True\n",
    "        else:\n",
    "            return False\n",
    "\n",
    "\n",
    "\n",
    "s1=Student(72,77)\n",
    "s2=Student(81,67)\n",
    "\n",
    "if s1> s2:\n",
    "    print(\"Student_1 is selected!\")\n",
    "    \n",
    "else:\n",
    "    print(\"Student_2 is selected!\")"
   ]
  },
  {
   "cell_type": "markdown",
   "metadata": {},
   "source": [
    "Method Overloading and Method Overriding"
   ]
  },
  {
   "cell_type": "code",
   "execution_count": 87,
   "metadata": {},
   "outputs": [
    {
     "name": "stdout",
     "output_type": "stream",
     "text": [
      "12\n"
     ]
    }
   ],
   "source": [
    "class Student:\n",
    "    def __init__(self, m1,m2):\n",
    "        self.m1=m1\n",
    "        self.m2=m2\n",
    "\n",
    "    def sum(self, a, b):\n",
    "        return a+b\n",
    "    \n",
    "\n",
    "s1=Student(50,69)\n",
    "print(s1.sum(5,7))"
   ]
  },
  {
   "cell_type": "code",
   "execution_count": 88,
   "metadata": {},
   "outputs": [
    {
     "ename": "TypeError",
     "evalue": "Student.sum() takes 3 positional arguments but 4 were given",
     "output_type": "error",
     "traceback": [
      "\u001b[1;31m---------------------------------------------------------------------------\u001b[0m",
      "\u001b[1;31mTypeError\u001b[0m                                 Traceback (most recent call last)",
      "Cell \u001b[1;32mIn[88], line 1\u001b[0m\n\u001b[1;32m----> 1\u001b[0m \u001b[38;5;28mprint\u001b[39m(\u001b[43ms1\u001b[49m\u001b[38;5;241;43m.\u001b[39;49m\u001b[43msum\u001b[49m\u001b[43m(\u001b[49m\u001b[38;5;241;43m5\u001b[39;49m\u001b[43m,\u001b[49m\u001b[38;5;241;43m7\u001b[39;49m\u001b[43m,\u001b[49m\u001b[38;5;241;43m4\u001b[39;49m\u001b[43m)\u001b[49m)\n",
      "\u001b[1;31mTypeError\u001b[0m: Student.sum() takes 3 positional arguments but 4 were given"
     ]
    }
   ],
   "source": [
    "print(s1.sum(5,7,4))"
   ]
  },
  {
   "cell_type": "code",
   "execution_count": 90,
   "metadata": {},
   "outputs": [
    {
     "name": "stdout",
     "output_type": "stream",
     "text": [
      "16\n",
      "5\n",
      "5\n",
      "Yo module ko naam chai falano ho!\n"
     ]
    }
   ],
   "source": [
    "class Student:\n",
    "    def sum(self, a=None, b=None, c=None):\n",
    "        if a != None and b != None and c != None:\n",
    "            return a+b+c\n",
    "        elif a!=None and b!=None:\n",
    "            return a\n",
    "        else:\n",
    "            return a\n",
    "    \n",
    "    def __str__(self):\n",
    "        print(\"Yo module ko naam chai falano ho!\")\n",
    "\n",
    "s1=Student()\n",
    "print(s1.sum(5,7,4))\n",
    "print(s1.sum(5,7))\n",
    "print(s1.sum(5))\n",
    "s1.__str__()"
   ]
  },
  {
   "cell_type": "markdown",
   "metadata": {},
   "source": [
    "Method Overriding "
   ]
  },
  {
   "cell_type": "code",
   "execution_count": 91,
   "metadata": {},
   "outputs": [
    {
     "name": "stdout",
     "output_type": "stream",
     "text": [
      " Showing A!\n"
     ]
    }
   ],
   "source": [
    "class A:\n",
    "    def show(self):\n",
    "        print(\" Showing A!\")\n",
    "\n",
    "class B:\n",
    "    pass\n",
    "\n",
    "a=A()\n",
    "a.show()"
   ]
  },
  {
   "cell_type": "code",
   "execution_count": 96,
   "metadata": {},
   "outputs": [
    {
     "name": "stdout",
     "output_type": "stream",
     "text": [
      "Showing B!\n"
     ]
    }
   ],
   "source": [
    "b=B()\n",
    "b.show()"
   ]
  },
  {
   "cell_type": "code",
   "execution_count": 93,
   "metadata": {},
   "outputs": [
    {
     "name": "stdout",
     "output_type": "stream",
     "text": [
      " Showing A!\n"
     ]
    }
   ],
   "source": [
    "class B(A):\n",
    "    pass\n",
    "\n",
    "b=B()\n",
    "b.show()"
   ]
  },
  {
   "cell_type": "code",
   "execution_count": 95,
   "metadata": {},
   "outputs": [
    {
     "name": "stdout",
     "output_type": "stream",
     "text": [
      "Showing B!\n"
     ]
    }
   ],
   "source": [
    "class B(A):\n",
    "    def show(self):\n",
    "        print(\"Showing B!\")\n",
    "\n",
    "b=B()\n",
    "b.show()"
   ]
  }
 ],
 "metadata": {
  "kernelspec": {
   "display_name": "Python 3",
   "language": "python",
   "name": "python3"
  },
  "language_info": {
   "codemirror_mode": {
    "name": "ipython",
    "version": 3
   },
   "file_extension": ".py",
   "mimetype": "text/x-python",
   "name": "python",
   "nbconvert_exporter": "python",
   "pygments_lexer": "ipython3",
   "version": "3.12.5"
  }
 },
 "nbformat": 4,
 "nbformat_minor": 2
}
