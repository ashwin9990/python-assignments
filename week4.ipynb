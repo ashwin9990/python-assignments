{
 "cells": [
  {
   "cell_type": "markdown",
   "metadata": {},
   "source": [
    "#Tutorial codes\n"
   ]
  },
  {
   "cell_type": "code",
   "execution_count": null,
   "metadata": {},
   "outputs": [],
   "source": []
  },
  {
   "cell_type": "markdown",
   "metadata": {},
   "source": [
    "# Exercise "
   ]
  },
  {
   "cell_type": "code",
   "execution_count": 9,
   "metadata": {},
   "outputs": [
    {
     "name": "stdout",
     "output_type": "stream",
     "text": [
      "More organized code is a benefit of functions!\n",
      "None\n",
      "More readable code is a benefit of functions!\n",
      "None\n",
      "Easier code reuse is a benefit of functions!\n",
      "None\n",
      "Allowing programmers to share and connect code together is a benefit of functions!\n",
      "None\n"
     ]
    }
   ],
   "source": [
    "def list_benefits():\n",
    "   lst=[\"More organized code\",\"More readable code\",\"Easier code reuse\",\"Allowing programmers to share and connect code together\"]\n",
    "   return lst\n",
    "\n",
    "def build_sentence(info):\n",
    "    print(f\"{info} is a benefit of functions!\")\n",
    "\n",
    "def name_the_benefits_of_functions():\n",
    "    listA = list_benefits()\n",
    "    for x in listA:\n",
    "        print(build_sentence(x))\n",
    "\n",
    "name_the_benefits_of_functions()\n"
   ]
  },
  {
   "cell_type": "code",
   "execution_count": null,
   "metadata": {},
   "outputs": [],
   "source": []
  },
  {
   "cell_type": "code",
   "execution_count": null,
   "metadata": {},
   "outputs": [
    {
     "name": "stdout",
     "output_type": "stream",
     "text": [
      "() is a benefit of functions!\n",
      "None\n"
     ]
    }
   ],
   "source": []
  }
 ],
 "metadata": {
  "kernelspec": {
   "display_name": "Python 3",
   "language": "python",
   "name": "python3"
  },
  "language_info": {
   "codemirror_mode": {
    "name": "ipython",
    "version": 3
   },
   "file_extension": ".py",
   "mimetype": "text/x-python",
   "name": "python",
   "nbconvert_exporter": "python",
   "pygments_lexer": "ipython3",
   "version": "3.13.1"
  }
 },
 "nbformat": 4,
 "nbformat_minor": 2
}
